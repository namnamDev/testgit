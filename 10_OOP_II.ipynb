{
 "cells": [
  {
   "cell_type": "markdown",
   "metadata": {},
   "source": [
    "<p style=\"font-size: 33px; font-weight: 700; margin-bottom: 3rem\">OOP II</p>\n",
    "\n",
    "- 인스턴스 & 클래스 변수\n",
    "- 인스턴스 & 클래스간의 이름공간\n",
    "- 인스턴스 & 클래스 메서드(+ 스태틱 메서드)"
   ]
  },
  {
   "cell_type": "markdown",
   "metadata": {},
   "source": [
    "# 인스턴스 & 클래스 변수"
   ]
  },
  {
   "cell_type": "markdown",
   "metadata": {},
   "source": [
    "## 인스턴스 변수\n",
    "* 인스턴스의 속성(attribute)\n",
    "* 각 인스턴스들의 고유한 변수\n",
    "* 메서드 정의에서 `self.변수명`로 정의\n",
    "* 인스턴스가 생성된 이후 `인스턴스.변수명`로 접근 및 할당\n",
    "\n",
    "---\n",
    "**활용법**\n",
    "    \n",
    "```python\n",
    "class Person:\n",
    "\n",
    "    def __init__(self, name):    # 인스턴스 메서드 (생성자) \n",
    "        self.name = name         # 인스턴스 변수\n",
    "```"
   ]
  },
  {
   "cell_type": "code",
   "execution_count": null,
   "metadata": {},
   "outputs": [],
   "source": [
    "# 클래스를 정의 해봅시다."
   ]
  },
  {
   "cell_type": "code",
   "execution_count": null,
   "metadata": {},
   "outputs": [],
   "source": [
    "class Person:\n",
    "    def __init__(self, name): # 인스턴스 메서드 중에 특별한.. 생성자 메서드\n",
    "        self.name = name      # 인스턴스 변수를 정의 / 할당\n",
    "                              # self : 인스턴스 자기자신을 뜻하기 때문!"
   ]
  },
  {
   "cell_type": "code",
   "execution_count": null,
   "metadata": {},
   "outputs": [],
   "source": [
    "# Person의 인스턴스를 각각의 name 변수를 출력해봅시다."
   ]
  },
  {
   "cell_type": "code",
   "execution_count": null,
   "metadata": {},
   "outputs": [],
   "source": [
    "iu = Person('IU')"
   ]
  },
  {
   "cell_type": "code",
   "execution_count": null,
   "metadata": {},
   "outputs": [],
   "source": [
    "iu.name"
   ]
  },
  {
   "cell_type": "code",
   "execution_count": null,
   "metadata": {},
   "outputs": [],
   "source": [
    "park = Person('park')\n",
    "park.name"
   ]
  },
  {
   "cell_type": "markdown",
   "metadata": {},
   "source": [
    "## 클래스 변수\n",
    "* 클래스의 속성(attribute)\n",
    "* 모든 인스턴스가 공유\n",
    "* 클래스 선언 내부에서 정의\n",
    "* `클래스.변수명`으로 접근 및 할당\n",
    "\n",
    "---\n",
    "\n",
    "**활용법**\n",
    "```py\n",
    "class Person:\n",
    "    species = 'human'\n",
    "    \n",
    "print(Person.species)\n",
    "```"
   ]
  },
  {
   "cell_type": "code",
   "execution_count": null,
   "metadata": {},
   "outputs": [],
   "source": [
    "# 클래스를 정의 해봅시다."
   ]
  },
  {
   "cell_type": "code",
   "execution_count": null,
   "metadata": {},
   "outputs": [],
   "source": [
    "class Person:\n",
    "    # 클래스내에 변수를 지정 => 클래스 변수\n",
    "    species = '사람'"
   ]
  },
  {
   "cell_type": "code",
   "execution_count": null,
   "metadata": {},
   "outputs": [],
   "source": [
    "Person.species"
   ]
  },
  {
   "cell_type": "code",
   "execution_count": null,
   "metadata": {},
   "outputs": [],
   "source": [
    "# 인스턴스를 만들어 봅시다."
   ]
  },
  {
   "cell_type": "code",
   "execution_count": null,
   "metadata": {},
   "outputs": [],
   "source": [
    "iu = Person()"
   ]
  },
  {
   "cell_type": "code",
   "execution_count": null,
   "metadata": {},
   "outputs": [],
   "source": [
    "# 클래스 변수에는 어떻게 접근할 수 있을까요?"
   ]
  },
  {
   "cell_type": "code",
   "execution_count": null,
   "metadata": {},
   "outputs": [],
   "source": [
    "iu.species"
   ]
  },
  {
   "cell_type": "code",
   "execution_count": null,
   "metadata": {},
   "outputs": [],
   "source": [
    "# 클래스가 공유하는 변수라고 했는데, 객체에서 클래스 변수에 접근/재할당을 해봅시다."
   ]
  },
  {
   "cell_type": "code",
   "execution_count": null,
   "metadata": {},
   "outputs": [],
   "source": [
    "iu.species = '신'"
   ]
  },
  {
   "cell_type": "code",
   "execution_count": null,
   "metadata": {},
   "outputs": [],
   "source": [
    "# 클래스 변수는 실제로 같은 값을 공유하는 걸까요? 값을 한 번 변경해 봅시다."
   ]
  },
  {
   "cell_type": "code",
   "execution_count": null,
   "metadata": {},
   "outputs": [],
   "source": [
    "iu.species"
   ]
  },
  {
   "cell_type": "code",
   "execution_count": null,
   "metadata": {},
   "outputs": [],
   "source": [
    "Person.species"
   ]
  },
  {
   "cell_type": "markdown",
   "metadata": {},
   "source": [
    "# 인스턴스 & 클래스간의 이름공간\n",
    "\n",
    "## 이름공간 탐색 순서\n",
    "\n",
    "* 클래스를 정의하면, 클래스가 생성됨과 동시에 이름 공간(namespace)이 생성된다. \n",
    "\n",
    "\n",
    "* 인스턴스를 만들게 되면, 인스턴스 객체가 생성되고 해당되는 이름 공간이 생성된다.\n",
    "\n",
    "\n",
    "* 인스턴스의 어트리뷰트가 변경되면, 변경된 데이터를 인스턴스 객체 이름 공간에 저장한다.\n",
    "\n",
    "\n",
    "* 즉, 인스턴스에서 특정한 어트리뷰트에 접근하게 되면 **인스턴스 => 클래스** 순으로 탐색을 한다."
   ]
  },
  {
   "cell_type": "code",
   "execution_count": null,
   "metadata": {},
   "outputs": [],
   "source": [
    "class Person:\n",
    "    \n",
    "    def __init__(self, name):\n",
    "        self.name = name # 인스턴스 변수\n",
    "    \n",
    "    def talk(self):\n",
    "        print(self.name)"
   ]
  },
  {
   "cell_type": "code",
   "execution_count": null,
   "metadata": {},
   "outputs": [],
   "source": [
    "# p1을 만들어 말해 봅시다."
   ]
  },
  {
   "cell_type": "code",
   "execution_count": null,
   "metadata": {
    "scrolled": true
   },
   "outputs": [],
   "source": [
    "iu = Person('iu')"
   ]
  },
  {
   "cell_type": "code",
   "execution_count": null,
   "metadata": {},
   "outputs": [],
   "source": [
    "iu.talk()"
   ]
  },
  {
   "cell_type": "code",
   "execution_count": null,
   "metadata": {},
   "outputs": [],
   "source": [
    "# 아래의 코드일 때, name으로 접근하면 어떻게 될까요?\n",
    "class Person:\n",
    "    name = 'unknown'\n",
    "    # 인스턴스 변수가 정의된 적 없음\n",
    "    def talk(self):\n",
    "        print(self.name)"
   ]
  },
  {
   "cell_type": "code",
   "execution_count": null,
   "metadata": {},
   "outputs": [],
   "source": [
    "# 아래에서 p2를 만들어 확인해 봅시다."
   ]
  },
  {
   "cell_type": "code",
   "execution_count": null,
   "metadata": {
    "scrolled": true
   },
   "outputs": [],
   "source": [
    "# 인스턴스 변수가 정의된 적 없음\n",
    "jimin = Person()\n",
    "jimin.talk() # 그래서 클래스 변수의 값을 출력한다."
   ]
  },
  {
   "cell_type": "markdown",
   "metadata": {},
   "source": [
    "* **class와 instance는 서로 다른 namespace를 가지고 있다.**"
   ]
  },
  {
   "cell_type": "code",
   "execution_count": null,
   "metadata": {},
   "outputs": [],
   "source": [
    "# p2의 이름을 직접 변경해 봅시다."
   ]
  },
  {
   "cell_type": "code",
   "execution_count": null,
   "metadata": {},
   "outputs": [],
   "source": [
    "%%html\n",
    "<iframe width=\"800\" height=\"500\" frameborder=\"0\" src=\"http://pythontutor.com/visualize.html#code=class%20Person%3A%0A%20%20%20%20name%20%3D%20'unknown'%0A%20%20%20%20%0A%20%20%20%20def%20talk%28self%29%3A%0A%20%20%20%20%20%20%20%20print%28self.name%29%0A%20%20%20%20%20%20%20%20%0A%20%20%20%20%20%20%20%20%0A%0Ap2%20%3D%20Person%28%29%0Aprint%28p2.name%29%0Ap2.name%20%3D%20'Jack'%0Aprint%28p2.name%29%0Aprint%28Person.name%29&cumulative=false&curInstr=0&heapPrimitives=nevernest&mode=display&origin=opt-frontend.js&py=3&rawInputLstJSON=%5B%5D&textReferences=false\"> </iframe>"
   ]
  },
  {
   "cell_type": "markdown",
   "metadata": {},
   "source": [
    "# 메서드의 종류\n",
    "\n",
    "## 인스턴스 메서드(instance method)\n",
    "* 인스턴스가 사용할 메서드\n",
    "* 클래스 내부에 정의되는 메서드의 기본값은 인스턴스 메서드\n",
    "* **호출시, 첫번째 인자로 인스턴스 자기자신 `self`이 전달됨**\n",
    "\n",
    "---\n",
    "\n",
    "**활용법**\n",
    "\n",
    "```python\n",
    "class MyClass:\n",
    "    def instance_method(self, arg1, arg2, ...):\n",
    "        ...\n",
    "\n",
    "my_instance = MyClass()\n",
    "# 인스턴스 생성 후 메서드를 호출하면 자동으로 첫 번째 인자로 인스턴스(my_instance)가 들어갑니다.\n",
    "my_instance.instance_method(.., ..)  \n",
    "```"
   ]
  },
  {
   "cell_type": "markdown",
   "metadata": {},
   "source": [
    "## 클래스 메서드(class method)\n",
    "* 클래스가 사용할 메서드\n",
    "* `@classmethod` 데코레이터를 사용하여 정의\n",
    "* **호출시, 첫 번째 인자로 클래스 `cls`가 전달됨**\n",
    "\n",
    "---\n",
    "\n",
    "**활용법**\n",
    "\n",
    "```python\n",
    "class MyClass:\n",
    "    @classmethod\n",
    "    def class_method(cls, arg1, arg2, ...):\n",
    "        ...\n",
    "\n",
    "# 자동으로 첫 번째 인자로 클래스(MyClass)가 들어간다.\n",
    "MyClass.class_method(.., ..)  \n",
    "```"
   ]
  },
  {
   "cell_type": "markdown",
   "metadata": {},
   "source": [
    "## 스태틱 메서드(static method)\n",
    "* 클래스가 사용할 메서드\n",
    "* `@staticmethod` 데코레이터를 사용하여 정의\n",
    "* **호출시, 어떠한 인자도 전달되지 않음**\n",
    "\n",
    "\n",
    "---\n",
    "\n",
    "**활용법**\n",
    "\n",
    "```python\n",
    "class MyClass:\n",
    "    @staticmethod\n",
    "    def static_method(arg1, arg2, ...):\n",
    "        ...\n",
    "\n",
    "# 아무런 일도 자동으로 일어나지 않는다.\n",
    "MyClass.static_method(.., ..)\n",
    "```"
   ]
  },
  {
   "cell_type": "code",
   "execution_count": null,
   "metadata": {},
   "outputs": [],
   "source": [
    "# Myclass 클래스를 정의해 봅시다."
   ]
  },
  {
   "cell_type": "code",
   "execution_count": null,
   "metadata": {},
   "outputs": [],
   "source": [
    "class MyClass:\n",
    "    \n",
    "    # 인스턴스메서드\n",
    "    def instance_method(self):\n",
    "        return self\n",
    "    \n",
    "    # 클래스메서드\n",
    "    @classmethod\n",
    "    def class_method(cls):\n",
    "        return cls\n",
    "    \n",
    "    # 스태틱메서드\n",
    "    @staticmethod\n",
    "    def static_method(arg):\n",
    "        return arg"
   ]
  },
  {
   "cell_type": "code",
   "execution_count": null,
   "metadata": {},
   "outputs": [],
   "source": [
    "# MyClass 클래스의 인스턴스 생성해 봅시다."
   ]
  },
  {
   "cell_type": "code",
   "execution_count": null,
   "metadata": {},
   "outputs": [],
   "source": [
    "mc = MyClass()"
   ]
  },
  {
   "cell_type": "code",
   "execution_count": null,
   "metadata": {},
   "outputs": [],
   "source": [
    "# 인스턴스 입장에서 확인해 봅시다."
   ]
  },
  {
   "cell_type": "code",
   "execution_count": null,
   "metadata": {},
   "outputs": [],
   "source": [
    "mc.instance_method() # self가 리턴되었는데 아래처럼 보임.."
   ]
  },
  {
   "cell_type": "code",
   "execution_count": null,
   "metadata": {},
   "outputs": [],
   "source": [
    "print(id(mc), id(mc.instance_method())) # id 동일"
   ]
  },
  {
   "cell_type": "code",
   "execution_count": null,
   "metadata": {},
   "outputs": [],
   "source": [
    "mc == mc.instance_method() # 인스턴스랑, 인스턴스메서드의 self값은 같다!"
   ]
  },
  {
   "cell_type": "code",
   "execution_count": null,
   "metadata": {},
   "outputs": [],
   "source": [
    "# 인스턴스는 인스턴스 메서드에 접근 가능합니다."
   ]
  },
  {
   "cell_type": "code",
   "execution_count": null,
   "metadata": {},
   "outputs": [],
   "source": [
    "# 인스턴스는 클래스 메서드에 접근 가능합니다. 다만, 하지는 맙시다."
   ]
  },
  {
   "cell_type": "code",
   "execution_count": null,
   "metadata": {},
   "outputs": [],
   "source": [
    "mc.class_method()"
   ]
  },
  {
   "cell_type": "code",
   "execution_count": null,
   "metadata": {},
   "outputs": [],
   "source": [
    "# Error => 첫 번째 인자가 없다. 위와 같이 자동으로 첫 번째 인자로 들어가는 것이 없습니다.   \n",
    "mc.static_method()"
   ]
  },
  {
   "cell_type": "code",
   "execution_count": null,
   "metadata": {},
   "outputs": [],
   "source": [
    "# 인스턴스는 스태틱 메서드에 접근 가능합니다.\n",
    "mc.static_method(1) # 자동으로 넘겨주는 것X!"
   ]
  },
  {
   "cell_type": "markdown",
   "metadata": {},
   "source": [
    "## 비교 정리"
   ]
  },
  {
   "cell_type": "markdown",
   "metadata": {},
   "source": [
    "### 인스턴스와 메서드\n",
    "- 인스턴스는 3가지 메서드 모두에 접근할 수 있다.\n",
    "- 하지만 인스턴스에서 클래스 메서드와 스태틱 메서드는 호출하지 않아야 한다. (가능하다 != 사용한다)\n",
    "- 인스턴스가 할 행동은 모두 인스턴스 메서드로 한정 지어서 설계한다."
   ]
  },
  {
   "cell_type": "code",
   "execution_count": null,
   "metadata": {},
   "outputs": [],
   "source": [
    "# 위의 MyClass를 활용하여 클래스 입장에서 확인해 봅시다."
   ]
  },
  {
   "cell_type": "code",
   "execution_count": null,
   "metadata": {},
   "outputs": [],
   "source": [
    "# 클래스 메서드를 호출해 봅시다.\n",
    "MyClass.class_method()"
   ]
  },
  {
   "cell_type": "code",
   "execution_count": null,
   "metadata": {},
   "outputs": [],
   "source": [
    "# cls로 내부적으로 클래스를 넘겨준다!\n",
    "MyClass.class_method() == MyClass"
   ]
  },
  {
   "cell_type": "code",
   "execution_count": null,
   "metadata": {},
   "outputs": [],
   "source": [
    "# 스태틱 메서드를 호출해 봅시다."
   ]
  },
  {
   "cell_type": "code",
   "execution_count": null,
   "metadata": {},
   "outputs": [],
   "source": [
    "MyClass.static_method(3)"
   ]
  },
  {
   "cell_type": "code",
   "execution_count": null,
   "metadata": {},
   "outputs": [],
   "source": [
    "# 인스턴스 메서드를 호출해 봅시다."
   ]
  },
  {
   "cell_type": "code",
   "execution_count": null,
   "metadata": {},
   "outputs": [],
   "source": [
    "MyClass.instance_method()\n",
    "# instance가 호출했다면,\n",
    "# mc.instance_method()일거고. 파이썬 내부적으로\n",
    "# MyClass.instance_method(mc) 호출을 했을 것..\n",
    "# 근데 클래스가 호출했다보니 인자가 없다고 뜸.."
   ]
  },
  {
   "cell_type": "code",
   "execution_count": null,
   "metadata": {},
   "outputs": [],
   "source": [
    "MyClass.instance_method(mc)"
   ]
  },
  {
   "cell_type": "markdown",
   "metadata": {},
   "source": [
    "### 클래스와 메서드\n",
    "- 클래스 또한 3가지 메서드 모두에 접근할 수 있다.\n",
    "- 하지만 클래스에서 인스턴스 메서드는 호출하지 않는다. (가능하다 != 사용한다)\n",
    "- 클래스가 할 행동은 다음 원칙에 따라 설계한다. (클래스 메서드와 정적 메서드)\n",
    "    - 클래스 자체(`cls`)와 그 속성에 접근할 필요가 있다면 **클래스 메서드**로 정의한다.\n",
    "    - 클래스와 클래스 속성에 접근할 필요가 없다면 **정적 메서드**로 정의한다.\n",
    "        - 정적 메서드는 `cls`, `self`와 같이 묵시적인 첫번째 인자를 받지 않기 때문"
   ]
  },
  {
   "cell_type": "markdown",
   "metadata": {},
   "source": [
    "### [코드예시] Puppy\n",
    "\n",
    "- Puppy 클래스의 속성에 접근하는 클래스 메서드를 생성해 봅시다.\n",
    "- 클래스 변수 `population`를 통해 개가 생길 때마다 증가 시키도록 하겠습니다.\n",
    "- 개들은 각자의 이름(name)과 종(breed)을 갖고 있습니다.\n",
    "- `bark()` 메서드를 호출하면 짖을 수 있습니다."
   ]
  },
  {
   "cell_type": "code",
   "execution_count": null,
   "metadata": {},
   "outputs": [],
   "source": [
    "# Puppy 클래스를 정의해 봅시다."
   ]
  },
  {
   "cell_type": "code",
   "execution_count": 1,
   "metadata": {},
   "outputs": [],
   "source": [
    "class Puppy:\n",
    "    population = 0\n",
    "    \n",
    "    def __init__(self, name, breed='멍멍이'):\n",
    "        self.name = name\n",
    "        self.breed = breed\n",
    "        Puppy.population += 1\n",
    "    \n",
    "    def bark(self):\n",
    "        # instance메서드?\n",
    "        # instance변수의 값을 활용하는 함수니까\n",
    "        print(f'멍멍 {self.name}!!! 나는 {self.breed}')\n",
    "        \n",
    "    @staticmethod\n",
    "    def info():\n",
    "        # class메서드 하셔도 되지 않을까요?..\n",
    "        # 상관없어요\n",
    "        # 근데 class를 쓰나요?\n",
    "        print('우리집 강아지입니다 >_<')\n",
    "        \n",
    "    @classmethod\n",
    "    def get_population(cls):\n",
    "        # 클래스 변수의 값을 쓸거! 함수에서\n",
    "        # 그러니까 클래스 메서드로 정의를 하고,\n",
    "        # cls로 넘겨주는 클래스를 활용해서 코드를 짠다.\n",
    "        print(f'{cls.population}')\n",
    "    \n",
    "        \n",
    "    def __del__(self):\n",
    "        Puppy.population -= 1"
   ]
  },
  {
   "cell_type": "code",
   "execution_count": null,
   "metadata": {},
   "outputs": [],
   "source": [
    "# Puppy 3 마리를 만들어보고,"
   ]
  },
  {
   "cell_type": "code",
   "execution_count": 2,
   "metadata": {},
   "outputs": [],
   "source": [
    "p1 = Puppy('초코', '푸들')\n",
    "p2 = Puppy('댕댕이', '시츄')"
   ]
  },
  {
   "cell_type": "code",
   "execution_count": null,
   "metadata": {},
   "outputs": [],
   "source": [
    "# 다양한 메서드를 호출해봅시다."
   ]
  },
  {
   "cell_type": "code",
   "execution_count": 4,
   "metadata": {},
   "outputs": [
    {
     "name": "stdout",
     "output_type": "stream",
     "text": [
      "2\n"
     ]
    }
   ],
   "source": [
    "Puppy.get_population()"
   ]
  },
  {
   "cell_type": "code",
   "execution_count": 5,
   "metadata": {},
   "outputs": [
    {
     "name": "stdout",
     "output_type": "stream",
     "text": [
      "우리집 강아지입니다 >_<\n"
     ]
    }
   ],
   "source": [
    "Puppy.info()"
   ]
  },
  {
   "cell_type": "code",
   "execution_count": null,
   "metadata": {},
   "outputs": [],
   "source": [
    "p3 = Puppy('꿀이', '말티즈')"
   ]
  },
  {
   "cell_type": "code",
   "execution_count": null,
   "metadata": {},
   "outputs": [],
   "source": [
    "Puppy.population"
   ]
  },
  {
   "cell_type": "code",
   "execution_count": null,
   "metadata": {},
   "outputs": [],
   "source": [
    "p4 = Puppy('몽자')"
   ]
  },
  {
   "cell_type": "code",
   "execution_count": null,
   "metadata": {},
   "outputs": [],
   "source": [
    "p4.breed"
   ]
  },
  {
   "cell_type": "code",
   "execution_count": null,
   "metadata": {},
   "outputs": [],
   "source": [
    "# Puppy 에 어떠한 속성에도 접근하지 않는 스태틱 메서드를 만들어보겠습니다."
   ]
  },
  {
   "cell_type": "code",
   "execution_count": null,
   "metadata": {},
   "outputs": [],
   "source": []
  }
 ],
 "metadata": {
  "kernelspec": {
   "display_name": "Python 3",
   "language": "python",
   "name": "python3"
  },
  "language_info": {
   "codemirror_mode": {
    "name": "ipython",
    "version": 3
   },
   "file_extension": ".py",
   "mimetype": "text/x-python",
   "name": "python",
   "nbconvert_exporter": "python",
   "pygments_lexer": "ipython3",
   "version": "3.8.7"
  },
  "latex_envs": {
   "LaTeX_envs_menu_present": true,
   "autoclose": false,
   "autocomplete": true,
   "bibliofile": "biblio.bib",
   "cite_by": "apalike",
   "current_citInitial": 1,
   "eqLabelWithNumbers": true,
   "eqNumInitial": 1,
   "hotkeys": {
    "equation": "Ctrl-E",
    "itemize": "Ctrl-I"
   },
   "labels_anchors": false,
   "latex_user_defs": false,
   "report_style_numbering": false,
   "user_envs_cfg": false
  },
  "toc": {
   "base_numbering": 1,
   "nav_menu": {},
   "number_sections": true,
   "sideBar": true,
   "skip_h1_title": false,
   "title_cell": "Table of Contents",
   "title_sidebar": "OOP II",
   "toc_cell": false,
   "toc_position": {
    "height": "calc(100% - 180px)",
    "left": "10px",
    "top": "150px",
    "width": "202.396px"
   },
   "toc_section_display": true,
   "toc_window_display": false
  }
 },
 "nbformat": 4,
 "nbformat_minor": 2
}
