{
 "cells": [
  {
   "cell_type": "markdown",
   "id": "coupled-assurance",
   "metadata": {},
   "source": [
    "# 1. 세로로 출력하기\n",
    "자연수 number를 입력 받아, 1부터 number까지의 수를 세로로 한줄씩 출력하시오."
   ]
  },
  {
   "cell_type": "code",
   "execution_count": 6,
   "id": "dynamic-swing",
   "metadata": {},
   "outputs": [
    {
     "name": "stdout",
     "output_type": "stream",
     "text": [
      "10\n",
      "[입력 예시]\n",
      "10\n",
      "\n",
      "\n",
      "[출력 예시]\n",
      "1\n",
      "2\n",
      "3\n",
      "4\n",
      "5\n",
      "6\n",
      "7\n",
      "8\n",
      "9\n",
      "10\n"
     ]
    }
   ],
   "source": [
    "N = int(input())\n",
    "\n",
    "print('[입력 예시]')\n",
    "print(N)\n",
    "print('\\n')\n",
    "print('[출력 예시]')\n",
    "for i in range(1,N+1) :\n",
    "    print(f'{i}')"
   ]
  },
  {
   "cell_type": "markdown",
   "id": "attractive-coffee",
   "metadata": {},
   "source": [
    "# 2. 가로로 출력하기\n",
    "자연수 number를 입력 받아, 1부터 number까지의 수를 가로로 한칸씩 띄어 출력하시오.\n"
   ]
  },
  {
   "cell_type": "code",
   "execution_count": 14,
   "id": "celtic-wright",
   "metadata": {},
   "outputs": [
    {
     "name": "stdout",
     "output_type": "stream",
     "text": [
      "10\n",
      "[입력 예시]\n",
      "10\n",
      "\n",
      "\n",
      "[출력 예시]\n",
      "1 2 3 4 5 6 7 8 9 10 \n"
     ]
    }
   ],
   "source": [
    "N = int(input())\n",
    "strs = ''\n",
    "print('[입력 예시]')\n",
    "print(N)\n",
    "print('\\n')\n",
    "print('[출력 예시]')\n",
    "for i in range(1,N+1) :\n",
    "    strs = f'{strs}{i} '\n",
    "print(strs)"
   ]
  },
  {
   "cell_type": "markdown",
   "id": "painted-theology",
   "metadata": {},
   "source": [
    "# 3. 거꾸로 세로로 출력하기\n",
    "자연수 number를 입력 받아, number부터 0까지의 수를 세로로 한줄씩 출력하시오.\n"
   ]
  },
  {
   "cell_type": "code",
   "execution_count": 9,
   "id": "swiss-playing",
   "metadata": {},
   "outputs": [
    {
     "name": "stdout",
     "output_type": "stream",
     "text": [
      "10\n",
      "[입력 예시]\n",
      "10\n",
      "\n",
      "\n",
      "[출력 예시]\n",
      "10\n",
      "9\n",
      "8\n",
      "7\n",
      "6\n",
      "5\n",
      "4\n",
      "3\n",
      "2\n",
      "1\n"
     ]
    }
   ],
   "source": [
    "N = int(input())\n",
    "\n",
    "print('[입력 예시]')\n",
    "print(N)\n",
    "print('\\n')\n",
    "print('[출력 예시]')\n",
    "for i in range(N,0,-1) :\n",
    "    print(f'{i}')"
   ]
  },
  {
   "cell_type": "markdown",
   "id": "outdoor-moldova",
   "metadata": {},
   "source": [
    "# 4. 거꾸로 출력해 보아요 (SWEA #1545)\n",
    "자연수 number를 입력 받아, number부터 0까지의 수를 가로로 한칸씩 띄어 출력하시오."
   ]
  },
  {
   "cell_type": "code",
   "execution_count": 17,
   "id": "handed-springfield",
   "metadata": {},
   "outputs": [
    {
     "name": "stdout",
     "output_type": "stream",
     "text": [
      "8\n",
      "8 7 6 5 4 3 2 1 0 \n"
     ]
    }
   ],
   "source": [
    "N = int(input())\n",
    "strs = ''\n",
    "\n",
    "for i in range(N,-1,-1) :\n",
    "    strs = f'{strs}{i} '\n",
    "print(strs)"
   ]
  },
  {
   "cell_type": "markdown",
   "id": "nuclear-stand",
   "metadata": {},
   "source": [
    "# 5. N줄 덧셈 (SWEA #2025)\n",
    "입력으로 자연수 number가 주어질 때, 1부터 주어진 자연수 number까지를 모두 더한 값\n",
    "을 출력하시오. 단, 주어지는 숫자는 10000을 넘지 않는다. 예를 들어, 주어진 숫자가 10일\n",
    "경우 1 + 2 + 3 + 4 + 5 + 6 + 7 + 8 + 9 + 10 = 55이므로, 출력해야 할 값은 55이다.\n"
   ]
  },
  {
   "cell_type": "code",
   "execution_count": 18,
   "id": "synthetic-hypothesis",
   "metadata": {},
   "outputs": [
    {
     "name": "stdout",
     "output_type": "stream",
     "text": [
      "10\n",
      "55\n"
     ]
    }
   ],
   "source": [
    "N = int(input())\n",
    "sum = 0\n",
    "for i in range(N+1):\n",
    "    sum += i\n",
    "print(sum)"
   ]
  },
  {
   "cell_type": "code",
   "execution_count": null,
   "id": "seven-brush",
   "metadata": {},
   "outputs": [],
   "source": []
  }
 ],
 "metadata": {
  "kernelspec": {
   "display_name": "Python 3",
   "language": "python",
   "name": "python3"
  },
  "language_info": {
   "codemirror_mode": {
    "name": "ipython",
    "version": 3
   },
   "file_extension": ".py",
   "mimetype": "text/x-python",
   "name": "python",
   "nbconvert_exporter": "python",
   "pygments_lexer": "ipython3",
   "version": "3.8.7"
  },
  "toc": {
   "base_numbering": 1,
   "nav_menu": {},
   "number_sections": true,
   "sideBar": true,
   "skip_h1_title": false,
   "title_cell": "Table of Contents",
   "title_sidebar": "Contents",
   "toc_cell": false,
   "toc_position": {},
   "toc_section_display": true,
   "toc_window_display": false
  }
 },
 "nbformat": 4,
 "nbformat_minor": 5
}
